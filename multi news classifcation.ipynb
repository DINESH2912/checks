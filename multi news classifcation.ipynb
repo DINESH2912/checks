{
 "cells": [
  {
   "cell_type": "code",
   "execution_count": 1,
   "id": "85af7bae",
   "metadata": {},
   "outputs": [],
   "source": [
    "import numpy as np\n",
    "import pandas as pd\n",
    "import matplotlib.pyplot as plt\n",
    "import nltk\n",
    "import string as s\n",
    "from nltk.corpus import stopwords\n",
    "import seaborn as sns\n",
    "import re\n",
    "import os"
   ]
  },
  {
   "cell_type": "code",
   "execution_count": 2,
   "id": "341d18fd",
   "metadata": {},
   "outputs": [],
   "source": [
    "train_data=pd.read_csv(r\"C:\\Users\\DINESH\\Dropbox\\PC\\Desktop\\train.csv\",header=0,names=['classid','title','desc'])\n",
    "test_data=pd.read_csv(r\"C:\\Users\\DINESH\\Dropbox\\PC\\Desktop\\test.csv\",header=0,names=['classid','title','desc'])"
   ]
  },
  {
   "cell_type": "code",
   "execution_count": 3,
   "id": "ddef5080",
   "metadata": {},
   "outputs": [
    {
     "data": {
      "text/html": [
       "<div>\n",
       "<style scoped>\n",
       "    .dataframe tbody tr th:only-of-type {\n",
       "        vertical-align: middle;\n",
       "    }\n",
       "\n",
       "    .dataframe tbody tr th {\n",
       "        vertical-align: top;\n",
       "    }\n",
       "\n",
       "    .dataframe thead th {\n",
       "        text-align: right;\n",
       "    }\n",
       "</style>\n",
       "<table border=\"1\" class=\"dataframe\">\n",
       "  <thead>\n",
       "    <tr style=\"text-align: right;\">\n",
       "      <th></th>\n",
       "      <th>classid</th>\n",
       "      <th>title</th>\n",
       "      <th>desc</th>\n",
       "    </tr>\n",
       "  </thead>\n",
       "  <tbody>\n",
       "    <tr>\n",
       "      <th>0</th>\n",
       "      <td>3</td>\n",
       "      <td>Wall St. Bears Claw Back Into the Black (Reuters)</td>\n",
       "      <td>Reuters - Short-sellers, Wall Street's dwindli...</td>\n",
       "    </tr>\n",
       "    <tr>\n",
       "      <th>1</th>\n",
       "      <td>3</td>\n",
       "      <td>Carlyle Looks Toward Commercial Aerospace (Reu...</td>\n",
       "      <td>Reuters - Private investment firm Carlyle Grou...</td>\n",
       "    </tr>\n",
       "    <tr>\n",
       "      <th>2</th>\n",
       "      <td>3</td>\n",
       "      <td>Oil and Economy Cloud Stocks' Outlook (Reuters)</td>\n",
       "      <td>Reuters - Soaring crude prices plus worries\\ab...</td>\n",
       "    </tr>\n",
       "    <tr>\n",
       "      <th>3</th>\n",
       "      <td>3</td>\n",
       "      <td>Iraq Halts Oil Exports from Main Southern Pipe...</td>\n",
       "      <td>Reuters - Authorities have halted oil export\\f...</td>\n",
       "    </tr>\n",
       "    <tr>\n",
       "      <th>4</th>\n",
       "      <td>3</td>\n",
       "      <td>Oil prices soar to all-time record, posing new...</td>\n",
       "      <td>AFP - Tearaway world oil prices, toppling reco...</td>\n",
       "    </tr>\n",
       "    <tr>\n",
       "      <th>...</th>\n",
       "      <td>...</td>\n",
       "      <td>...</td>\n",
       "      <td>...</td>\n",
       "    </tr>\n",
       "    <tr>\n",
       "      <th>119995</th>\n",
       "      <td>1</td>\n",
       "      <td>Pakistan's Musharraf Says Won't Quit as Army C...</td>\n",
       "      <td>KARACHI (Reuters) - Pakistani President Perve...</td>\n",
       "    </tr>\n",
       "    <tr>\n",
       "      <th>119996</th>\n",
       "      <td>2</td>\n",
       "      <td>Renteria signing a top-shelf deal</td>\n",
       "      <td>Red Sox general manager Theo Epstein acknowled...</td>\n",
       "    </tr>\n",
       "    <tr>\n",
       "      <th>119997</th>\n",
       "      <td>2</td>\n",
       "      <td>Saban not going to Dolphins yet</td>\n",
       "      <td>The Miami Dolphins will put their courtship of...</td>\n",
       "    </tr>\n",
       "    <tr>\n",
       "      <th>119998</th>\n",
       "      <td>2</td>\n",
       "      <td>Today's NFL games</td>\n",
       "      <td>PITTSBURGH at NY GIANTS Time: 1:30 p.m. Line: ...</td>\n",
       "    </tr>\n",
       "    <tr>\n",
       "      <th>119999</th>\n",
       "      <td>2</td>\n",
       "      <td>Nets get Carter from Raptors</td>\n",
       "      <td>INDIANAPOLIS -- All-Star Vince Carter was trad...</td>\n",
       "    </tr>\n",
       "  </tbody>\n",
       "</table>\n",
       "<p>120000 rows × 3 columns</p>\n",
       "</div>"
      ],
      "text/plain": [
       "        classid                                              title  \\\n",
       "0             3  Wall St. Bears Claw Back Into the Black (Reuters)   \n",
       "1             3  Carlyle Looks Toward Commercial Aerospace (Reu...   \n",
       "2             3    Oil and Economy Cloud Stocks' Outlook (Reuters)   \n",
       "3             3  Iraq Halts Oil Exports from Main Southern Pipe...   \n",
       "4             3  Oil prices soar to all-time record, posing new...   \n",
       "...         ...                                                ...   \n",
       "119995        1  Pakistan's Musharraf Says Won't Quit as Army C...   \n",
       "119996        2                  Renteria signing a top-shelf deal   \n",
       "119997        2                    Saban not going to Dolphins yet   \n",
       "119998        2                                  Today's NFL games   \n",
       "119999        2                       Nets get Carter from Raptors   \n",
       "\n",
       "                                                     desc  \n",
       "0       Reuters - Short-sellers, Wall Street's dwindli...  \n",
       "1       Reuters - Private investment firm Carlyle Grou...  \n",
       "2       Reuters - Soaring crude prices plus worries\\ab...  \n",
       "3       Reuters - Authorities have halted oil export\\f...  \n",
       "4       AFP - Tearaway world oil prices, toppling reco...  \n",
       "...                                                   ...  \n",
       "119995   KARACHI (Reuters) - Pakistani President Perve...  \n",
       "119996  Red Sox general manager Theo Epstein acknowled...  \n",
       "119997  The Miami Dolphins will put their courtship of...  \n",
       "119998  PITTSBURGH at NY GIANTS Time: 1:30 p.m. Line: ...  \n",
       "119999  INDIANAPOLIS -- All-Star Vince Carter was trad...  \n",
       "\n",
       "[120000 rows x 3 columns]"
      ]
     },
     "execution_count": 3,
     "metadata": {},
     "output_type": "execute_result"
    }
   ],
   "source": [
    "train_data"
   ]
  },
  {
   "cell_type": "code",
   "execution_count": 4,
   "id": "0ec09ccf",
   "metadata": {},
   "outputs": [
    {
     "data": {
      "text/html": [
       "<div>\n",
       "<style scoped>\n",
       "    .dataframe tbody tr th:only-of-type {\n",
       "        vertical-align: middle;\n",
       "    }\n",
       "\n",
       "    .dataframe tbody tr th {\n",
       "        vertical-align: top;\n",
       "    }\n",
       "\n",
       "    .dataframe thead th {\n",
       "        text-align: right;\n",
       "    }\n",
       "</style>\n",
       "<table border=\"1\" class=\"dataframe\">\n",
       "  <thead>\n",
       "    <tr style=\"text-align: right;\">\n",
       "      <th></th>\n",
       "      <th>classid</th>\n",
       "      <th>title</th>\n",
       "      <th>desc</th>\n",
       "    </tr>\n",
       "  </thead>\n",
       "  <tbody>\n",
       "    <tr>\n",
       "      <th>0</th>\n",
       "      <td>3</td>\n",
       "      <td>Fears for T N pension after talks</td>\n",
       "      <td>Unions representing workers at Turner   Newall...</td>\n",
       "    </tr>\n",
       "    <tr>\n",
       "      <th>1</th>\n",
       "      <td>4</td>\n",
       "      <td>The Race is On: Second Private Team Sets Launc...</td>\n",
       "      <td>SPACE.com - TORONTO, Canada -- A second\\team o...</td>\n",
       "    </tr>\n",
       "    <tr>\n",
       "      <th>2</th>\n",
       "      <td>4</td>\n",
       "      <td>Ky. Company Wins Grant to Study Peptides (AP)</td>\n",
       "      <td>AP - A company founded by a chemistry research...</td>\n",
       "    </tr>\n",
       "    <tr>\n",
       "      <th>3</th>\n",
       "      <td>4</td>\n",
       "      <td>Prediction Unit Helps Forecast Wildfires (AP)</td>\n",
       "      <td>AP - It's barely dawn when Mike Fitzpatrick st...</td>\n",
       "    </tr>\n",
       "    <tr>\n",
       "      <th>4</th>\n",
       "      <td>4</td>\n",
       "      <td>Calif. Aims to Limit Farm-Related Smog (AP)</td>\n",
       "      <td>AP - Southern California's smog-fighting agenc...</td>\n",
       "    </tr>\n",
       "    <tr>\n",
       "      <th>...</th>\n",
       "      <td>...</td>\n",
       "      <td>...</td>\n",
       "      <td>...</td>\n",
       "    </tr>\n",
       "    <tr>\n",
       "      <th>7595</th>\n",
       "      <td>1</td>\n",
       "      <td>Around the world</td>\n",
       "      <td>Ukrainian presidential candidate Viktor Yushch...</td>\n",
       "    </tr>\n",
       "    <tr>\n",
       "      <th>7596</th>\n",
       "      <td>2</td>\n",
       "      <td>Void is filled with Clement</td>\n",
       "      <td>With the supply of attractive pitching options...</td>\n",
       "    </tr>\n",
       "    <tr>\n",
       "      <th>7597</th>\n",
       "      <td>2</td>\n",
       "      <td>Martinez leaves bitter</td>\n",
       "      <td>Like Roger Clemens did almost exactly eight ye...</td>\n",
       "    </tr>\n",
       "    <tr>\n",
       "      <th>7598</th>\n",
       "      <td>3</td>\n",
       "      <td>5 of arthritis patients in Singapore take Bext...</td>\n",
       "      <td>SINGAPORE : Doctors in the United States have ...</td>\n",
       "    </tr>\n",
       "    <tr>\n",
       "      <th>7599</th>\n",
       "      <td>3</td>\n",
       "      <td>EBay gets into rentals</td>\n",
       "      <td>EBay plans to buy the apartment and home renta...</td>\n",
       "    </tr>\n",
       "  </tbody>\n",
       "</table>\n",
       "<p>7600 rows × 3 columns</p>\n",
       "</div>"
      ],
      "text/plain": [
       "      classid                                              title  \\\n",
       "0           3                  Fears for T N pension after talks   \n",
       "1           4  The Race is On: Second Private Team Sets Launc...   \n",
       "2           4      Ky. Company Wins Grant to Study Peptides (AP)   \n",
       "3           4      Prediction Unit Helps Forecast Wildfires (AP)   \n",
       "4           4        Calif. Aims to Limit Farm-Related Smog (AP)   \n",
       "...       ...                                                ...   \n",
       "7595        1                                   Around the world   \n",
       "7596        2                        Void is filled with Clement   \n",
       "7597        2                             Martinez leaves bitter   \n",
       "7598        3  5 of arthritis patients in Singapore take Bext...   \n",
       "7599        3                             EBay gets into rentals   \n",
       "\n",
       "                                                   desc  \n",
       "0     Unions representing workers at Turner   Newall...  \n",
       "1     SPACE.com - TORONTO, Canada -- A second\\team o...  \n",
       "2     AP - A company founded by a chemistry research...  \n",
       "3     AP - It's barely dawn when Mike Fitzpatrick st...  \n",
       "4     AP - Southern California's smog-fighting agenc...  \n",
       "...                                                 ...  \n",
       "7595  Ukrainian presidential candidate Viktor Yushch...  \n",
       "7596  With the supply of attractive pitching options...  \n",
       "7597  Like Roger Clemens did almost exactly eight ye...  \n",
       "7598  SINGAPORE : Doctors in the United States have ...  \n",
       "7599  EBay plans to buy the apartment and home renta...  \n",
       "\n",
       "[7600 rows x 3 columns]"
      ]
     },
     "execution_count": 4,
     "metadata": {},
     "output_type": "execute_result"
    }
   ],
   "source": [
    "test_data"
   ]
  },
  {
   "cell_type": "code",
   "execution_count": 5,
   "id": "1476aa53",
   "metadata": {},
   "outputs": [
    {
     "data": {
      "text/plain": [
       "(120000, 3)"
      ]
     },
     "execution_count": 5,
     "metadata": {},
     "output_type": "execute_result"
    }
   ],
   "source": [
    "train_data.shape"
   ]
  },
  {
   "cell_type": "code",
   "execution_count": 6,
   "id": "b0c0beaf",
   "metadata": {},
   "outputs": [
    {
     "data": {
      "text/plain": [
       "(7600, 3)"
      ]
     },
     "execution_count": 6,
     "metadata": {},
     "output_type": "execute_result"
    }
   ],
   "source": [
    "test_data.shape"
   ]
  },
  {
   "cell_type": "code",
   "execution_count": 7,
   "id": "8771f882",
   "metadata": {},
   "outputs": [
    {
     "name": "stderr",
     "output_type": "stream",
     "text": [
      "C:\\python\\lib\\site-packages\\seaborn\\_decorators.py:36: FutureWarning: Pass the following variable as a keyword arg: x. From version 0.12, the only valid positional argument will be `data`, and passing other arguments without an explicit keyword will result in an error or misinterpretation.\n",
      "  warnings.warn(\n"
     ]
    },
    {
     "data": {
      "text/plain": [
       "<AxesSubplot:xlabel='classid', ylabel='count'>"
      ]
     },
     "execution_count": 7,
     "metadata": {},
     "output_type": "execute_result"
    },
    {
     "data": {
      "image/png": "[encoded data removed]",
      "text/plain": [
       "<Figure size 432x288 with 1 Axes>"
      ]
     },
     "metadata": {
      "needs_background": "light"
     },
     "output_type": "display_data"
    }
   ],
   "source": [
    "sns.countplot(train_data.classid)"
   ]
  },
  {
   "cell_type": "code",
   "execution_count": 8,
   "id": "ba25b222",
   "metadata": {},
   "outputs": [
    {
     "name": "stderr",
     "output_type": "stream",
     "text": [
      "C:\\python\\lib\\site-packages\\seaborn\\_decorators.py:36: FutureWarning: Pass the following variable as a keyword arg: x. From version 0.12, the only valid positional argument will be `data`, and passing other arguments without an explicit keyword will result in an error or misinterpretation.\n",
      "  warnings.warn(\n"
     ]
    },
    {
     "data": {
      "text/plain": [
       "<AxesSubplot:xlabel='classid', ylabel='count'>"
      ]
     },
     "execution_count": 8,
     "metadata": {},
     "output_type": "execute_result"
    },
    {
     "data": {
      "image/png": "[encoded data removed]",
      "text/plain": [
       "<Figure size 432x288 with 1 Axes>"
      ]
     },
     "metadata": {
      "needs_background": "light"
     },
     "output_type": "display_data"
    }
   ],
   "source": [
    "sns.countplot(test_data.classid)"
   ]
  },
  {
   "cell_type": "code",
   "execution_count": 9,
   "id": "0f05f7b1",
   "metadata": {},
   "outputs": [],
   "source": [
    "train_x=train_data.desc\n",
    "test_x=test_data.desc\n",
    "train_y=train_data.classid\n",
    "test_y=test_data.classid"
   ]
  },
  {
   "cell_type": "code",
   "execution_count": 10,
   "id": "212d5a49",
   "metadata": {},
   "outputs": [
    {
     "data": {
      "text/plain": [
       "(120000,)"
      ]
     },
     "execution_count": 10,
     "metadata": {},
     "output_type": "execute_result"
    }
   ],
   "source": [
    "train_x.shape"
   ]
  },
  {
   "cell_type": "raw",
   "id": "42f44cc8",
   "metadata": {},
   "source": [
    "test_x.shape"
   ]
  },
  {
   "cell_type": "code",
   "execution_count": 11,
   "id": "0a095d3b",
   "metadata": {},
   "outputs": [
    {
     "data": {
      "text/plain": [
       "(120000,)"
      ]
     },
     "execution_count": 11,
     "metadata": {},
     "output_type": "execute_result"
    }
   ],
   "source": [
    "train_y.shape"
   ]
  },
  {
   "cell_type": "code",
   "execution_count": 12,
   "id": "ddea0fd1",
   "metadata": {},
   "outputs": [
    {
     "data": {
      "text/plain": [
       "(7600,)"
      ]
     },
     "execution_count": 12,
     "metadata": {},
     "output_type": "execute_result"
    }
   ],
   "source": [
    "test_y.shape"
   ]
  },
  {
   "cell_type": "code",
   "execution_count": 13,
   "id": "ae7dee65",
   "metadata": {},
   "outputs": [],
   "source": [
    "\n",
    "# removing the html tags\n",
    "def remove_html(text):\n",
    "  html_pattern = re.compile('<.*?>')\n",
    "  return html_pattern.sub(r'',text)\n",
    "train_x=train_x.apply(remove_html)\n",
    "test_x=test_x.apply(remove_html)\n",
    "\n",
    "# removing the url\n",
    "def remove_url(text):\n",
    "  url_pattern=re.compile(r'http?://\\S+|www\\.\\S+')\n",
    "  return url_pattern.sub(r'',text)\n",
    "train_x=train_x.apply(remove_url)\n",
    "test_x=test_x.apply(remove_url)\n"
   ]
  },
  {
   "cell_type": "code",
   "execution_count": null,
   "id": "ad564544",
   "metadata": {},
   "outputs": [],
   "source": []
  },
  {
   "cell_type": "code",
   "execution_count": null,
   "id": "9abd2838",
   "metadata": {},
   "outputs": [],
   "source": []
  },
  {
   "cell_type": "code",
   "execution_count": 14,
   "id": "b0632624",
   "metadata": {},
   "outputs": [],
   "source": [
    "def word_tokenize(txt):\n",
    "    tokens = re.findall(\"[\\w']+\", txt)\n",
    "    return tokens\n",
    "train_x=train_x.apply(word_tokenize)\n",
    "test_x=test_x.apply(word_tokenize)"
   ]
  },
  {
   "cell_type": "code",
   "execution_count": 15,
   "id": "a927b417",
   "metadata": {},
   "outputs": [
    {
     "data": {
      "text/plain": [
       "0         [Reuters, Short, sellers, Wall, Street's, dwin...\n",
       "1         [Reuters, Private, investment, firm, Carlyle, ...\n",
       "2         [Reuters, Soaring, crude, prices, plus, worrie...\n",
       "3         [Reuters, Authorities, have, halted, oil, expo...\n",
       "4         [AFP, Tearaway, world, oil, prices, toppling, ...\n",
       "                                ...                        \n",
       "119995    [KARACHI, Reuters, Pakistani, President, Perve...\n",
       "119996    [Red, Sox, general, manager, Theo, Epstein, ac...\n",
       "119997    [The, Miami, Dolphins, will, put, their, court...\n",
       "119998    [PITTSBURGH, at, NY, GIANTS, Time, 1, 30, p, m...\n",
       "119999    [INDIANAPOLIS, All, Star, Vince, Carter, was, ...\n",
       "Name: desc, Length: 120000, dtype: object"
      ]
     },
     "execution_count": 15,
     "metadata": {},
     "output_type": "execute_result"
    }
   ],
   "source": [
    "train_x"
   ]
  },
  {
   "cell_type": "code",
   "execution_count": null,
   "id": "b38a7bdc",
   "metadata": {},
   "outputs": [],
   "source": []
  },
  {
   "cell_type": "code",
   "execution_count": 16,
   "id": "9951c11b",
   "metadata": {},
   "outputs": [],
   "source": [
    "def remove_words(text):\n",
    "  stop=stopwords.words('english')\n",
    "  new_list=[]\n",
    "  for i in text:\n",
    "    if i.lower() not in stop:\n",
    "      new_list.append(i)\n",
    "  return new_list\n",
    "train_x=train_x.apply(remove_words)\n",
    "test_x=test_x.apply(remove_words)"
   ]
  },
  {
   "cell_type": "code",
   "execution_count": 17,
   "id": "f44246c3",
   "metadata": {},
   "outputs": [
    {
     "data": {
      "text/plain": [
       "0         [Reuters, Short, sellers, Wall, Street's, dwin...\n",
       "1         [Reuters, Private, investment, firm, Carlyle, ...\n",
       "2         [Reuters, Soaring, crude, prices, plus, worrie...\n",
       "3         [Reuters, Authorities, halted, oil, export, fl...\n",
       "4         [AFP, Tearaway, world, oil, prices, toppling, ...\n",
       "                                ...                        \n",
       "119995    [KARACHI, Reuters, Pakistani, President, Perve...\n",
       "119996    [Red, Sox, general, manager, Theo, Epstein, ac...\n",
       "119997    [Miami, Dolphins, put, courtship, LSU, coach, ...\n",
       "119998    [PITTSBURGH, NY, GIANTS, Time, 1, 30, p, Line,...\n",
       "119999    [INDIANAPOLIS, Star, Vince, Carter, traded, To...\n",
       "Name: desc, Length: 120000, dtype: object"
      ]
     },
     "execution_count": 17,
     "metadata": {},
     "output_type": "execute_result"
    }
   ],
   "source": [
    "train_x"
   ]
  },
  {
   "cell_type": "code",
   "execution_count": 18,
   "id": "56899f94",
   "metadata": {},
   "outputs": [],
   "source": [
    "def remove_numbers(text):\n",
    "  a=[]\n",
    "  b=[]\n",
    "  for i in text:\n",
    "    for j in s.digits:\n",
    "      i=i.replace(j,'')\n",
    "    a.append(i)\n",
    "  for i in a:\n",
    "    if i!='':\n",
    "      b.append(i)\n",
    "    return b\n",
    "train_x=train_x.apply(remove_numbers)\n",
    "test_x=test_x.apply(remove_numbers)"
   ]
  },
  {
   "cell_type": "code",
   "execution_count": 19,
   "id": "e20f8b56",
   "metadata": {},
   "outputs": [],
   "source": [
    "def stemming(text):\n",
    "  porter_stemmer=nltk.PorterStemmer()\n",
    "  roots=[porter_stemmer.stem(each) for each in text]\n",
    "  return roots\n",
    "train_x=train_x.apply(stemming)\n",
    "test_x=test_x.apply(stemming)"
   ]
  },
  {
   "cell_type": "code",
   "execution_count": 20,
   "id": "0b2eb1de",
   "metadata": {},
   "outputs": [
    {
     "name": "stderr",
     "output_type": "stream",
     "text": [
      "[nltk_data] Downloading package wordnet to\n",
      "[nltk_data]     C:\\Users\\DINESH\\AppData\\Roaming\\nltk_data...\n",
      "[nltk_data]   Package wordnet is already up-to-date!\n"
     ]
    },
    {
     "data": {
      "text/plain": [
       "True"
      ]
     },
     "execution_count": 20,
     "metadata": {},
     "output_type": "execute_result"
    }
   ],
   "source": [
    "import nltk\n",
    "nltk.download('wordnet')"
   ]
  },
  {
   "cell_type": "code",
   "execution_count": 21,
   "id": "6306de0c",
   "metadata": {},
   "outputs": [],
   "source": [
    "# lemmitization\n",
    "b=nltk.stem.WordNetLemmatizer()\n",
    "def lemmitzer(text):\n",
    "  new_lst=[]\n",
    "  for i in text:\n",
    "    i=b.lemmatize(i)\n",
    "    new_lst.append(i)\n",
    "  return new_lst\n",
    "\n",
    "train_x=train_x.apply(lemmitzer)\n",
    "test_x=test_x.apply(lemmitzer)"
   ]
  },
  {
   "cell_type": "code",
   "execution_count": 22,
   "id": "3c6bcdc3",
   "metadata": {},
   "outputs": [],
   "source": [
    "def remove_extrawords(lst):\n",
    "    stop=['href','lt','gt','ii','iii','ie','quot','com']\n",
    "    new_lst=[]\n",
    "    for i in lst:\n",
    "        if i not in stop:\n",
    "            new_lst.append(i)\n",
    "    return new_lst\n",
    "\n",
    "train_x=train_x.apply(remove_extrawords)\n",
    "test_x=test_x.apply(remove_extrawords) "
   ]
  },
  {
   "cell_type": "code",
   "execution_count": 23,
   "id": "142e3b3e",
   "metadata": {},
   "outputs": [],
   "source": [
    "train_x=train_x.apply(lambda x: ''.join(i+' ' for i in x))\n",
    "test_x=test_x.apply(lambda x: ''.join(i+' '  for i in x))"
   ]
  },
  {
   "cell_type": "code",
   "execution_count": 24,
   "id": "9d91d71d",
   "metadata": {},
   "outputs": [
    {
     "name": "stdout",
     "output_type": "stream",
     "text": [
      "No. of features extracted\n",
      "2015\n",
      "['aaron', 'abc', 'abidjan', 'abu', 'abuja', 'ac', 'accord', 'account', 'accountingweb', 'accus', 'ace', 'acquisit', 'across', 'action', 'actor', 'ad', 'adam', 'addi', 'addit', 'adelaid', 'admit', 'adob', 'adrian', 'advanc', 'advertis', 'adweek', 'aerospac', 'afghan', 'afghanistan', 'afp', 'african', 'afrol', 'age', 'agenc', 'agi', 'agra', 'agreement', 'aid', 'ail', 'air', 'airbu', 'aircraft', 'airlin', 'akron', 'al', 'alan', 'alaska', 'albani', 'albert', 'albuquerqu', 'alcoa', 'alderson', 'alex', 'alexandria', 'alicia', 'alitalia', 'alleg', 'allen', 'allianc', 'allison', 'almost', 'alonzo', 'alreadi', 'also', 'altern', 'although', 'altria', 'alway', 'amanda', 'amateur', 'amazon', 'amd', 'ameli', 'america', 'american', 'amid', 'amman', 'among', 'amp', 'amsterdam', 'anaheim', 'analysi', 'analyst', 'anastasia', 'anchorag', 'andi', 'andr', 'andrew', 'angel', 'anglo', 'angri', 'anheus', 'anil', 'ankara', 'ann', 'annika', 'announc', 'annual', 'anonym', 'anoth']\n"
     ]
    }
   ],
   "source": [
    "from sklearn.feature_extraction.text  import TfidfVectorizer\n",
    "tfidf=TfidfVectorizer(min_df=8,ngram_range=(1,3))\n",
    "train_1=tfidf.fit_transform(train_x)\n",
    "test_1=tfidf.transform(test_x)\n",
    "print(\"No. of features extracted\")\n",
    "print(len(tfidf.get_feature_names()))\n",
    "print(tfidf.get_feature_names()[:100])\n",
    "\n",
    "train_arr=train_1.toarray()\n",
    "test_arr=test_1.toarray()"
   ]
  },
  {
   "cell_type": "code",
   "execution_count": 25,
   "id": "c8de8fa6",
   "metadata": {},
   "outputs": [
    {
     "data": {
      "text/html": [
       "<div>\n",
       "<style scoped>\n",
       "    .dataframe tbody tr th:only-of-type {\n",
       "        vertical-align: middle;\n",
       "    }\n",
       "\n",
       "    .dataframe tbody tr th {\n",
       "        vertical-align: top;\n",
       "    }\n",
       "\n",
       "    .dataframe thead th {\n",
       "        text-align: right;\n",
       "    }\n",
       "</style>\n",
       "<table border=\"1\" class=\"dataframe\">\n",
       "  <thead>\n",
       "    <tr style=\"text-align: right;\">\n",
       "      <th></th>\n",
       "      <th>aaron</th>\n",
       "      <th>abc</th>\n",
       "      <th>abidjan</th>\n",
       "      <th>abu</th>\n",
       "      <th>abuja</th>\n",
       "      <th>ac</th>\n",
       "      <th>accord</th>\n",
       "      <th>account</th>\n",
       "      <th>accountingweb</th>\n",
       "      <th>accus</th>\n",
       "      <th>...</th>\n",
       "      <th>year</th>\n",
       "      <th>yesterday</th>\n",
       "      <th>yet</th>\n",
       "      <th>young</th>\n",
       "      <th>yuko</th>\n",
       "      <th>zdnet</th>\n",
       "      <th>ziff</th>\n",
       "      <th>zimbabw</th>\n",
       "      <th>zimbabwean</th>\n",
       "      <th>zurich</th>\n",
       "    </tr>\n",
       "  </thead>\n",
       "  <tbody>\n",
       "    <tr>\n",
       "      <th>0</th>\n",
       "      <td>0.0</td>\n",
       "      <td>0.0</td>\n",
       "      <td>0.0</td>\n",
       "      <td>0.0</td>\n",
       "      <td>0.0</td>\n",
       "      <td>0.0</td>\n",
       "      <td>0.0</td>\n",
       "      <td>0.0</td>\n",
       "      <td>0.0</td>\n",
       "      <td>0.0</td>\n",
       "      <td>...</td>\n",
       "      <td>0.0</td>\n",
       "      <td>0.0</td>\n",
       "      <td>0.0</td>\n",
       "      <td>0.0</td>\n",
       "      <td>0.0</td>\n",
       "      <td>0.0</td>\n",
       "      <td>0.0</td>\n",
       "      <td>0.0</td>\n",
       "      <td>0.0</td>\n",
       "      <td>0.0</td>\n",
       "    </tr>\n",
       "    <tr>\n",
       "      <th>1</th>\n",
       "      <td>0.0</td>\n",
       "      <td>0.0</td>\n",
       "      <td>0.0</td>\n",
       "      <td>0.0</td>\n",
       "      <td>0.0</td>\n",
       "      <td>0.0</td>\n",
       "      <td>0.0</td>\n",
       "      <td>0.0</td>\n",
       "      <td>0.0</td>\n",
       "      <td>0.0</td>\n",
       "      <td>...</td>\n",
       "      <td>0.0</td>\n",
       "      <td>0.0</td>\n",
       "      <td>0.0</td>\n",
       "      <td>0.0</td>\n",
       "      <td>0.0</td>\n",
       "      <td>0.0</td>\n",
       "      <td>0.0</td>\n",
       "      <td>0.0</td>\n",
       "      <td>0.0</td>\n",
       "      <td>0.0</td>\n",
       "    </tr>\n",
       "    <tr>\n",
       "      <th>2</th>\n",
       "      <td>0.0</td>\n",
       "      <td>0.0</td>\n",
       "      <td>0.0</td>\n",
       "      <td>0.0</td>\n",
       "      <td>0.0</td>\n",
       "      <td>0.0</td>\n",
       "      <td>0.0</td>\n",
       "      <td>0.0</td>\n",
       "      <td>0.0</td>\n",
       "      <td>0.0</td>\n",
       "      <td>...</td>\n",
       "      <td>0.0</td>\n",
       "      <td>0.0</td>\n",
       "      <td>0.0</td>\n",
       "      <td>0.0</td>\n",
       "      <td>0.0</td>\n",
       "      <td>0.0</td>\n",
       "      <td>0.0</td>\n",
       "      <td>0.0</td>\n",
       "      <td>0.0</td>\n",
       "      <td>0.0</td>\n",
       "    </tr>\n",
       "    <tr>\n",
       "      <th>3</th>\n",
       "      <td>0.0</td>\n",
       "      <td>0.0</td>\n",
       "      <td>0.0</td>\n",
       "      <td>0.0</td>\n",
       "      <td>0.0</td>\n",
       "      <td>0.0</td>\n",
       "      <td>0.0</td>\n",
       "      <td>0.0</td>\n",
       "      <td>0.0</td>\n",
       "      <td>0.0</td>\n",
       "      <td>...</td>\n",
       "      <td>0.0</td>\n",
       "      <td>0.0</td>\n",
       "      <td>0.0</td>\n",
       "      <td>0.0</td>\n",
       "      <td>0.0</td>\n",
       "      <td>0.0</td>\n",
       "      <td>0.0</td>\n",
       "      <td>0.0</td>\n",
       "      <td>0.0</td>\n",
       "      <td>0.0</td>\n",
       "    </tr>\n",
       "    <tr>\n",
       "      <th>4</th>\n",
       "      <td>0.0</td>\n",
       "      <td>0.0</td>\n",
       "      <td>0.0</td>\n",
       "      <td>0.0</td>\n",
       "      <td>0.0</td>\n",
       "      <td>0.0</td>\n",
       "      <td>0.0</td>\n",
       "      <td>0.0</td>\n",
       "      <td>0.0</td>\n",
       "      <td>0.0</td>\n",
       "      <td>...</td>\n",
       "      <td>0.0</td>\n",
       "      <td>0.0</td>\n",
       "      <td>0.0</td>\n",
       "      <td>0.0</td>\n",
       "      <td>0.0</td>\n",
       "      <td>0.0</td>\n",
       "      <td>0.0</td>\n",
       "      <td>0.0</td>\n",
       "      <td>0.0</td>\n",
       "      <td>0.0</td>\n",
       "    </tr>\n",
       "    <tr>\n",
       "      <th>...</th>\n",
       "      <td>...</td>\n",
       "      <td>...</td>\n",
       "      <td>...</td>\n",
       "      <td>...</td>\n",
       "      <td>...</td>\n",
       "      <td>...</td>\n",
       "      <td>...</td>\n",
       "      <td>...</td>\n",
       "      <td>...</td>\n",
       "      <td>...</td>\n",
       "      <td>...</td>\n",
       "      <td>...</td>\n",
       "      <td>...</td>\n",
       "      <td>...</td>\n",
       "      <td>...</td>\n",
       "      <td>...</td>\n",
       "      <td>...</td>\n",
       "      <td>...</td>\n",
       "      <td>...</td>\n",
       "      <td>...</td>\n",
       "      <td>...</td>\n",
       "    </tr>\n",
       "    <tr>\n",
       "      <th>95</th>\n",
       "      <td>0.0</td>\n",
       "      <td>0.0</td>\n",
       "      <td>0.0</td>\n",
       "      <td>0.0</td>\n",
       "      <td>0.0</td>\n",
       "      <td>0.0</td>\n",
       "      <td>0.0</td>\n",
       "      <td>0.0</td>\n",
       "      <td>0.0</td>\n",
       "      <td>0.0</td>\n",
       "      <td>...</td>\n",
       "      <td>0.0</td>\n",
       "      <td>0.0</td>\n",
       "      <td>0.0</td>\n",
       "      <td>0.0</td>\n",
       "      <td>0.0</td>\n",
       "      <td>0.0</td>\n",
       "      <td>0.0</td>\n",
       "      <td>0.0</td>\n",
       "      <td>0.0</td>\n",
       "      <td>0.0</td>\n",
       "    </tr>\n",
       "    <tr>\n",
       "      <th>96</th>\n",
       "      <td>0.0</td>\n",
       "      <td>0.0</td>\n",
       "      <td>0.0</td>\n",
       "      <td>0.0</td>\n",
       "      <td>0.0</td>\n",
       "      <td>0.0</td>\n",
       "      <td>0.0</td>\n",
       "      <td>0.0</td>\n",
       "      <td>0.0</td>\n",
       "      <td>0.0</td>\n",
       "      <td>...</td>\n",
       "      <td>0.0</td>\n",
       "      <td>0.0</td>\n",
       "      <td>0.0</td>\n",
       "      <td>0.0</td>\n",
       "      <td>0.0</td>\n",
       "      <td>0.0</td>\n",
       "      <td>0.0</td>\n",
       "      <td>0.0</td>\n",
       "      <td>0.0</td>\n",
       "      <td>0.0</td>\n",
       "    </tr>\n",
       "    <tr>\n",
       "      <th>97</th>\n",
       "      <td>0.0</td>\n",
       "      <td>0.0</td>\n",
       "      <td>0.0</td>\n",
       "      <td>0.0</td>\n",
       "      <td>0.0</td>\n",
       "      <td>0.0</td>\n",
       "      <td>0.0</td>\n",
       "      <td>0.0</td>\n",
       "      <td>0.0</td>\n",
       "      <td>0.0</td>\n",
       "      <td>...</td>\n",
       "      <td>0.0</td>\n",
       "      <td>0.0</td>\n",
       "      <td>0.0</td>\n",
       "      <td>0.0</td>\n",
       "      <td>0.0</td>\n",
       "      <td>0.0</td>\n",
       "      <td>0.0</td>\n",
       "      <td>0.0</td>\n",
       "      <td>0.0</td>\n",
       "      <td>0.0</td>\n",
       "    </tr>\n",
       "    <tr>\n",
       "      <th>98</th>\n",
       "      <td>0.0</td>\n",
       "      <td>0.0</td>\n",
       "      <td>0.0</td>\n",
       "      <td>0.0</td>\n",
       "      <td>0.0</td>\n",
       "      <td>0.0</td>\n",
       "      <td>0.0</td>\n",
       "      <td>0.0</td>\n",
       "      <td>0.0</td>\n",
       "      <td>0.0</td>\n",
       "      <td>...</td>\n",
       "      <td>0.0</td>\n",
       "      <td>0.0</td>\n",
       "      <td>0.0</td>\n",
       "      <td>0.0</td>\n",
       "      <td>0.0</td>\n",
       "      <td>0.0</td>\n",
       "      <td>0.0</td>\n",
       "      <td>0.0</td>\n",
       "      <td>0.0</td>\n",
       "      <td>0.0</td>\n",
       "    </tr>\n",
       "    <tr>\n",
       "      <th>99</th>\n",
       "      <td>0.0</td>\n",
       "      <td>0.0</td>\n",
       "      <td>0.0</td>\n",
       "      <td>0.0</td>\n",
       "      <td>0.0</td>\n",
       "      <td>0.0</td>\n",
       "      <td>0.0</td>\n",
       "      <td>0.0</td>\n",
       "      <td>0.0</td>\n",
       "      <td>0.0</td>\n",
       "      <td>...</td>\n",
       "      <td>0.0</td>\n",
       "      <td>0.0</td>\n",
       "      <td>0.0</td>\n",
       "      <td>0.0</td>\n",
       "      <td>0.0</td>\n",
       "      <td>0.0</td>\n",
       "      <td>0.0</td>\n",
       "      <td>0.0</td>\n",
       "      <td>0.0</td>\n",
       "      <td>0.0</td>\n",
       "    </tr>\n",
       "  </tbody>\n",
       "</table>\n",
       "<p>100 rows × 2015 columns</p>\n",
       "</div>"
      ],
      "text/plain": [
       "    aaron  abc  abidjan  abu  abuja   ac  accord  account  accountingweb  \\\n",
       "0     0.0  0.0      0.0  0.0    0.0  0.0     0.0      0.0            0.0   \n",
       "1     0.0  0.0      0.0  0.0    0.0  0.0     0.0      0.0            0.0   \n",
       "2     0.0  0.0      0.0  0.0    0.0  0.0     0.0      0.0            0.0   \n",
       "3     0.0  0.0      0.0  0.0    0.0  0.0     0.0      0.0            0.0   \n",
       "4     0.0  0.0      0.0  0.0    0.0  0.0     0.0      0.0            0.0   \n",
       "..    ...  ...      ...  ...    ...  ...     ...      ...            ...   \n",
       "95    0.0  0.0      0.0  0.0    0.0  0.0     0.0      0.0            0.0   \n",
       "96    0.0  0.0      0.0  0.0    0.0  0.0     0.0      0.0            0.0   \n",
       "97    0.0  0.0      0.0  0.0    0.0  0.0     0.0      0.0            0.0   \n",
       "98    0.0  0.0      0.0  0.0    0.0  0.0     0.0      0.0            0.0   \n",
       "99    0.0  0.0      0.0  0.0    0.0  0.0     0.0      0.0            0.0   \n",
       "\n",
       "    accus  ...  year  yesterday  yet  young  yuko  zdnet  ziff  zimbabw  \\\n",
       "0     0.0  ...   0.0        0.0  0.0    0.0   0.0    0.0   0.0      0.0   \n",
       "1     0.0  ...   0.0        0.0  0.0    0.0   0.0    0.0   0.0      0.0   \n",
       "2     0.0  ...   0.0        0.0  0.0    0.0   0.0    0.0   0.0      0.0   \n",
       "3     0.0  ...   0.0        0.0  0.0    0.0   0.0    0.0   0.0      0.0   \n",
       "4     0.0  ...   0.0        0.0  0.0    0.0   0.0    0.0   0.0      0.0   \n",
       "..    ...  ...   ...        ...  ...    ...   ...    ...   ...      ...   \n",
       "95    0.0  ...   0.0        0.0  0.0    0.0   0.0    0.0   0.0      0.0   \n",
       "96    0.0  ...   0.0        0.0  0.0    0.0   0.0    0.0   0.0      0.0   \n",
       "97    0.0  ...   0.0        0.0  0.0    0.0   0.0    0.0   0.0      0.0   \n",
       "98    0.0  ...   0.0        0.0  0.0    0.0   0.0    0.0   0.0      0.0   \n",
       "99    0.0  ...   0.0        0.0  0.0    0.0   0.0    0.0   0.0      0.0   \n",
       "\n",
       "    zimbabwean  zurich  \n",
       "0          0.0     0.0  \n",
       "1          0.0     0.0  \n",
       "2          0.0     0.0  \n",
       "3          0.0     0.0  \n",
       "4          0.0     0.0  \n",
       "..         ...     ...  \n",
       "95         0.0     0.0  \n",
       "96         0.0     0.0  \n",
       "97         0.0     0.0  \n",
       "98         0.0     0.0  \n",
       "99         0.0     0.0  \n",
       "\n",
       "[100 rows x 2015 columns]"
      ]
     },
     "execution_count": 25,
     "metadata": {},
     "output_type": "execute_result"
    }
   ],
   "source": [
    "pd.DataFrame(train_arr[:100], columns=tfidf.get_feature_names())"
   ]
  },
  {
   "cell_type": "code",
   "execution_count": null,
   "id": "c6a0796f",
   "metadata": {},
   "outputs": [],
   "source": []
  },
  {
   "cell_type": "code",
   "execution_count": 26,
   "id": "4d373e98",
   "metadata": {},
   "outputs": [
    {
     "name": "stdout",
     "output_type": "stream",
     "text": [
      "Wall time: 1.27 s\n"
     ]
    }
   ],
   "source": [
    "%%time\n",
    "from sklearn.naive_bayes  import MultinomialNB \n",
    "NB_MN=MultinomialNB(alpha=0.52)\n",
    "NB_MN.fit(train_arr,train_y)\n",
    "pred=NB_MN.predict(test_arr)"
   ]
  },
  {
   "cell_type": "code",
   "execution_count": 27,
   "id": "b9d24404",
   "metadata": {},
   "outputs": [
    {
     "name": "stdout",
     "output_type": "stream",
     "text": [
      "first 20 actual labels\n",
      "[3, 4, 4, 4, 4, 4, 4, 4, 4, 4, 4, 4, 4, 4, 4, 4, 4, 4, 4, 4]\n",
      "first 20 predicted labels\n",
      "[3, 4, 2, 2, 2, 1, 2, 1, 1, 4, 4, 4, 1, 2, 2, 1, 2, 3, 4, 4]\n"
     ]
    }
   ],
   "source": [
    "print(\"first 20 actual labels\")\n",
    "print(test_y.tolist()[:20])\n",
    "print(\"first 20 predicted labels\")\n",
    "print(pred.tolist()[:20])"
   ]
  },
  {
   "cell_type": "code",
   "execution_count": 28,
   "id": "d9944a5e",
   "metadata": {},
   "outputs": [
    {
     "name": "stdout",
     "output_type": "stream",
     "text": [
      "F1 score of the model\n",
      "0.5456578947368421\n",
      "Accuracy of the model\n",
      "0.5456578947368421\n",
      "Accuracy of the model in percentage\n",
      "54.566 %\n"
     ]
    }
   ],
   "source": [
    "from sklearn.metrics  import f1_score,accuracy_score\n",
    "print(\"F1 score of the model\")\n",
    "print(f1_score(test_y,pred,average='micro'))\n",
    "print(\"Accuracy of the model\")\n",
    "print(accuracy_score(test_y,pred))\n",
    "print(\"Accuracy of the model in percentage\")\n",
    "print(round(accuracy_score(test_y,pred)*100,3),\"%\")"
   ]
  },
  {
   "cell_type": "code",
   "execution_count": null,
   "id": "fd1c6070",
   "metadata": {},
   "outputs": [],
   "source": []
  },
  {
   "cell_type": "code",
   "execution_count": null,
   "id": "b015c674",
   "metadata": {},
   "outputs": [],
   "source": []
  },
  {
   "cell_type": "code",
   "execution_count": null,
   "id": "fa8820d9",
   "metadata": {},
   "outputs": [],
   "source": []
  },
  {
   "cell_type": "code",
   "execution_count": null,
   "id": "8fda9eff",
   "metadata": {},
   "outputs": [],
   "source": []
  }
 ],
 "metadata": {
  "kernelspec": {
   "display_name": "Python 3 (ipykernel)",
   "language": "python",
   "name": "python3"
  },
  "language_info": {
   "codemirror_mode": {
    "name": "ipython",
    "version": 3
   },
   "file_extension": ".py",
   "mimetype": "text/x-python",
   "name": "python",
   "nbconvert_exporter": "python",
   "pygments_lexer": "ipython3",
   "version": "3.9.7"
  }
 },
 "nbformat": 4,
 "nbformat_minor": 5
}
